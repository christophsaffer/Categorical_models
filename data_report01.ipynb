{
 "cells": [
  {
   "cell_type": "markdown",
   "metadata": {},
   "source": [
    "# DATA REPORT - Categorical Models\n",
    "\n",
    "I choose the allbus2016 dataset to explore the distribution of political attitude in Germany based on various variables. Goals might be a comparision with the German elections 2017 or a check of common prejudices (for example East Germany vs. West Germany, Man vs. Woman etc.).\n",
    "\n",
    "# Import\n",
    "\n",
    "The dataset contains hundreds of different variables. This would be a huge model with millions of parameters. Obviously too many to calculate a useful model. Therefore I choose few variables which are important in my eyes. They are:\n",
    " - education ('educ')\n",
    " - income ('di01a')\n",
    " - information whether the person lives in east or west Germany ('eastwest')\n",
    " - sex ('sex')\n",
    " - age ('age')\n",
    " - political interest ('pa02a')\n",
    " - preferred party ('pv01')\n",
    " \n",
    "More information about single variables can be gathered in the codebook in the allbus2016 folder.\n",
    "\n",
    "Let us have a look at the data:"
   ]
  },
  {
   "cell_type": "code",
   "execution_count": 1,
   "metadata": {},
   "outputs": [
    {
     "data": {
      "text/html": [
       "<div>\n",
       "<style>\n",
       "    .dataframe thead tr:only-child th {\n",
       "        text-align: right;\n",
       "    }\n",
       "\n",
       "    .dataframe thead th {\n",
       "        text-align: left;\n",
       "    }\n",
       "\n",
       "    .dataframe tbody tr th {\n",
       "        vertical-align: top;\n",
       "    }\n",
       "</style>\n",
       "<table border=\"1\" class=\"dataframe\">\n",
       "  <thead>\n",
       "    <tr style=\"text-align: right;\">\n",
       "      <th></th>\n",
       "      <th>educ</th>\n",
       "      <th>di01a</th>\n",
       "      <th>eastwest</th>\n",
       "      <th>sex</th>\n",
       "      <th>age</th>\n",
       "      <th>pa02a</th>\n",
       "      <th>pv01</th>\n",
       "    </tr>\n",
       "  </thead>\n",
       "  <tbody>\n",
       "    <tr>\n",
       "      <th>0</th>\n",
       "      <td>MITTLERE REIFE</td>\n",
       "      <td>1800</td>\n",
       "      <td>NEUE BUNDESLAENDER</td>\n",
       "      <td>FRAU</td>\n",
       "      <td>47</td>\n",
       "      <td>WENIG</td>\n",
       "      <td>DIE LINKE</td>\n",
       "    </tr>\n",
       "    <tr>\n",
       "      <th>1</th>\n",
       "      <td>MITTLERE REIFE</td>\n",
       "      <td>2000</td>\n",
       "      <td>NEUE BUNDESLAENDER</td>\n",
       "      <td>MANN</td>\n",
       "      <td>52</td>\n",
       "      <td>STARK</td>\n",
       "      <td>FDP</td>\n",
       "    </tr>\n",
       "    <tr>\n",
       "      <th>2</th>\n",
       "      <td>VOLKS-,HAUPTSCHULE</td>\n",
       "      <td>2500</td>\n",
       "      <td>ALTE BUNDESLAENDER</td>\n",
       "      <td>MANN</td>\n",
       "      <td>61</td>\n",
       "      <td>MITTEL</td>\n",
       "      <td>CDU-CSU</td>\n",
       "    </tr>\n",
       "    <tr>\n",
       "      <th>3</th>\n",
       "      <td>VOLKS-,HAUPTSCHULE</td>\n",
       "      <td>860</td>\n",
       "      <td>ALTE BUNDESLAENDER</td>\n",
       "      <td>FRAU</td>\n",
       "      <td>54</td>\n",
       "      <td>SEHR STARK</td>\n",
       "      <td>DIE LINKE</td>\n",
       "    </tr>\n",
       "    <tr>\n",
       "      <th>4</th>\n",
       "      <td>HOCHSCHULREIFE</td>\n",
       "      <td>VERWEIGERT</td>\n",
       "      <td>ALTE BUNDESLAENDER</td>\n",
       "      <td>MANN</td>\n",
       "      <td>71</td>\n",
       "      <td>SEHR STARK</td>\n",
       "      <td>KEINE ANGABE</td>\n",
       "    </tr>\n",
       "  </tbody>\n",
       "</table>\n",
       "</div>"
      ],
      "text/plain": [
       "                 educ       di01a            eastwest   sex age       pa02a  \\\n",
       "0      MITTLERE REIFE        1800  NEUE BUNDESLAENDER  FRAU  47       WENIG   \n",
       "1      MITTLERE REIFE        2000  NEUE BUNDESLAENDER  MANN  52       STARK   \n",
       "2  VOLKS-,HAUPTSCHULE        2500  ALTE BUNDESLAENDER  MANN  61      MITTEL   \n",
       "3  VOLKS-,HAUPTSCHULE         860  ALTE BUNDESLAENDER  FRAU  54  SEHR STARK   \n",
       "4      HOCHSCHULREIFE  VERWEIGERT  ALTE BUNDESLAENDER  MANN  71  SEHR STARK   \n",
       "\n",
       "           pv01  \n",
       "0     DIE LINKE  \n",
       "1           FDP  \n",
       "2       CDU-CSU  \n",
       "3     DIE LINKE  \n",
       "4  KEINE ANGABE  "
      ]
     },
     "execution_count": 1,
     "metadata": {},
     "output_type": "execute_result"
    }
   ],
   "source": [
    "import pandas as pd\n",
    "data_table = pd.read_stata('data_sets/allbus2016/allbus2016.dta',\n",
    "                           columns=['educ', 'di01a', 'eastwest', 'sex', 'age', 'pa02a', 'pv01'])\n",
    "data_table.head()"
   ]
  },
  {
   "cell_type": "code",
   "execution_count": 2,
   "metadata": {},
   "outputs": [
    {
     "data": {
      "text/plain": [
       "3490"
      ]
     },
     "execution_count": 2,
     "metadata": {},
     "output_type": "execute_result"
    }
   ],
   "source": [
    "len(data_table)"
   ]
  },
  {
   "cell_type": "markdown",
   "metadata": {},
   "source": [
    "# Data cleansing and exploration\n",
    "In the coming section we want to clean the data in that way that we can understand them easier and use them for fitting a categorical model.\n",
    "\n",
    "What is bothering us with the current data? \n",
    "- The names of the variables/columns are not self-explaining\n",
    "- Some of the variables/columns have too many possible values (too many categories)\n",
    "- Some of the variables/columns are not categorical at all\n",
    "\n",
    "I wrote a script called \"data_cleaning_script.py\" that obviously cleans the data. \n",
    "There, I give more accurate names to the columns, \n",
    "delete rows which have unconvinient categoricals (for example: delete rows where the column pv01 (preferred party) says \"Datenfehler\", \"Keine Angabe\" and so on), \n",
    "transform the continous variables to categoricals (for example: younger than 45 is \"JUNG\" and older than 44 is \"ALT\" and so on) \n",
    "and I reduce the categories of some categorical variables (for example: only two options for column pa02a (political interest). \n",
    "\n",
    "I also saved the result as a .csv file in folder /data_sets.\n",
    "\n",
    "Let us have a look at the result:"
   ]
  },
  {
   "cell_type": "code",
   "execution_count": 3,
   "metadata": {},
   "outputs": [
    {
     "data": {
      "text/html": [
       "<div>\n",
       "<style>\n",
       "    .dataframe thead tr:only-child th {\n",
       "        text-align: right;\n",
       "    }\n",
       "\n",
       "    .dataframe thead th {\n",
       "        text-align: left;\n",
       "    }\n",
       "\n",
       "    .dataframe tbody tr th {\n",
       "        vertical-align: top;\n",
       "    }\n",
       "</style>\n",
       "<table border=\"1\" class=\"dataframe\">\n",
       "  <thead>\n",
       "    <tr style=\"text-align: right;\">\n",
       "      <th></th>\n",
       "      <th>a_education</th>\n",
       "      <th>b_income</th>\n",
       "      <th>c_eastwest</th>\n",
       "      <th>d_sex</th>\n",
       "      <th>e_age</th>\n",
       "      <th>f_political_interest</th>\n",
       "      <th>g_preferred_party</th>\n",
       "    </tr>\n",
       "  </thead>\n",
       "  <tbody>\n",
       "    <tr>\n",
       "      <th>0</th>\n",
       "      <td>EHER GEBILDET</td>\n",
       "      <td>EHER NIEDRIG</td>\n",
       "      <td>NEUE BUNDESLAENDER</td>\n",
       "      <td>FRAU</td>\n",
       "      <td>ALT</td>\n",
       "      <td>NEIN</td>\n",
       "      <td>DIE LINKE</td>\n",
       "    </tr>\n",
       "    <tr>\n",
       "      <th>1</th>\n",
       "      <td>EHER GEBILDET</td>\n",
       "      <td>EHER NIEDRIG</td>\n",
       "      <td>NEUE BUNDESLAENDER</td>\n",
       "      <td>MANN</td>\n",
       "      <td>ALT</td>\n",
       "      <td>JA</td>\n",
       "      <td>FDP</td>\n",
       "    </tr>\n",
       "    <tr>\n",
       "      <th>2</th>\n",
       "      <td>EHER UNGEBILDET</td>\n",
       "      <td>EHER HOCH</td>\n",
       "      <td>ALTE BUNDESLAENDER</td>\n",
       "      <td>MANN</td>\n",
       "      <td>ALT</td>\n",
       "      <td>JA</td>\n",
       "      <td>CDU-CSU</td>\n",
       "    </tr>\n",
       "    <tr>\n",
       "      <th>3</th>\n",
       "      <td>EHER UNGEBILDET</td>\n",
       "      <td>EHER NIEDRIG</td>\n",
       "      <td>ALTE BUNDESLAENDER</td>\n",
       "      <td>FRAU</td>\n",
       "      <td>ALT</td>\n",
       "      <td>JA</td>\n",
       "      <td>DIE LINKE</td>\n",
       "    </tr>\n",
       "    <tr>\n",
       "      <th>4</th>\n",
       "      <td>EHER GEBILDET</td>\n",
       "      <td>EHER HOCH</td>\n",
       "      <td>ALTE BUNDESLAENDER</td>\n",
       "      <td>MANN</td>\n",
       "      <td>ALT</td>\n",
       "      <td>JA</td>\n",
       "      <td>CDU-CSU</td>\n",
       "    </tr>\n",
       "  </tbody>\n",
       "</table>\n",
       "</div>"
      ],
      "text/plain": [
       "       a_education      b_income          c_eastwest d_sex e_age  \\\n",
       "0    EHER GEBILDET  EHER NIEDRIG  NEUE BUNDESLAENDER  FRAU   ALT   \n",
       "1    EHER GEBILDET  EHER NIEDRIG  NEUE BUNDESLAENDER  MANN   ALT   \n",
       "2  EHER UNGEBILDET     EHER HOCH  ALTE BUNDESLAENDER  MANN   ALT   \n",
       "3  EHER UNGEBILDET  EHER NIEDRIG  ALTE BUNDESLAENDER  FRAU   ALT   \n",
       "4    EHER GEBILDET     EHER HOCH  ALTE BUNDESLAENDER  MANN   ALT   \n",
       "\n",
       "  f_political_interest g_preferred_party  \n",
       "0                 NEIN         DIE LINKE  \n",
       "1                   JA               FDP  \n",
       "2                   JA           CDU-CSU  \n",
       "3                   JA         DIE LINKE  \n",
       "4                   JA           CDU-CSU  "
      ]
     },
     "execution_count": 3,
     "metadata": {},
     "output_type": "execute_result"
    }
   ],
   "source": [
    "from utils.utils import *\n",
    "cleaned_data = read_csv_data('data_sets/', 'dataset.csv')\n",
    "cleaned_data.head()"
   ]
  },
  {
   "cell_type": "markdown",
   "metadata": {},
   "source": [
    "I have also written the function \"read_csv_data\" which only uses the panda function to imports a .csv file, but also sets the first column as the index and transform each column to type \"categorical\". There are more useful functions in the utils/utils.py file such as \"import_model\" and \"data_compl\". Let us check the length of our cleaned data set:"
   ]
  },
  {
   "cell_type": "code",
   "execution_count": 4,
   "metadata": {},
   "outputs": [
    {
     "data": {
      "text/plain": [
       "2236"
      ]
     },
     "execution_count": 4,
     "metadata": {},
     "output_type": "execute_result"
    }
   ],
   "source": [
    "len(cleaned_data)"
   ]
  },
  {
   "cell_type": "markdown",
   "metadata": {},
   "source": [
    "Obviously we reduced our date from 3490 to 2251 rows. Let us check the categories of the single variables:"
   ]
  },
  {
   "cell_type": "code",
   "execution_count": 5,
   "metadata": {},
   "outputs": [
    {
     "name": "stdout",
     "output_type": "stream",
     "text": [
      "Index(['EHER GEBILDET', 'EHER UNGEBILDET'], dtype='object')\n",
      "Index(['EHER HOCH', 'EHER NIEDRIG'], dtype='object')\n",
      "Index(['ALTE BUNDESLAENDER', 'NEUE BUNDESLAENDER'], dtype='object')\n",
      "Index(['FRAU', 'MANN'], dtype='object')\n",
      "Index(['ALT', 'JUNG'], dtype='object')\n",
      "Index(['JA', 'NEIN'], dtype='object')\n",
      "Index(['AFD', 'CDU-CSU', 'DIE GRUENEN', 'DIE LINKE', 'FDP', 'SPD',\n",
      "       'WUERDE NICHT WAEHLEN'],\n",
      "      dtype='object')\n"
     ]
    }
   ],
   "source": [
    "for col in cleaned_data.columns:\n",
    "    print(cleaned_data[col].values.categories)"
   ]
  },
  {
   "cell_type": "markdown",
   "metadata": {},
   "source": [
    "Also let us check the complexity of a model that we would learn on this data:"
   ]
  },
  {
   "cell_type": "code",
   "execution_count": 6,
   "metadata": {},
   "outputs": [
    {
     "data": {
      "text/plain": [
       "448"
      ]
     },
     "execution_count": 6,
     "metadata": {},
     "output_type": "execute_result"
    }
   ],
   "source": [
    "compl = 1\n",
    "for col in cleaned_data.columns:\n",
    "    c = len(cleaned_data[col].values.categories)\n",
    "    compl = compl * c\n",
    "compl"
   ]
  },
  {
   "cell_type": "markdown",
   "metadata": {},
   "source": [
    "So this means we would get a model with 448 parameters. That is a little too many for our data, but fine for a first approach in learning a model on our data!"
   ]
  },
  {
   "cell_type": "markdown",
   "metadata": {},
   "source": [
    "# Modelling\n",
    "\n",
    "After we have imported and cleaned our data we would like to fit a categorical model to it. Therefore we import the nececcary libraries from my written code and create an object from the class \"Categ\" which stands for Categorical Model, followed by saving the cleaned .csv file which we created in the last section:"
   ]
  },
  {
   "cell_type": "code",
   "execution_count": 7,
   "metadata": {},
   "outputs": [
    {
     "data": {
      "text/html": [
       "<div>\n",
       "<style>\n",
       "    .dataframe thead tr:only-child th {\n",
       "        text-align: right;\n",
       "    }\n",
       "\n",
       "    .dataframe thead th {\n",
       "        text-align: left;\n",
       "    }\n",
       "\n",
       "    .dataframe tbody tr th {\n",
       "        vertical-align: top;\n",
       "    }\n",
       "</style>\n",
       "<table border=\"1\" class=\"dataframe\">\n",
       "  <thead>\n",
       "    <tr style=\"text-align: right;\">\n",
       "      <th></th>\n",
       "      <th>a_education</th>\n",
       "      <th>b_income</th>\n",
       "      <th>c_eastwest</th>\n",
       "      <th>d_sex</th>\n",
       "      <th>e_age</th>\n",
       "      <th>f_political_interest</th>\n",
       "      <th>g_preferred_party</th>\n",
       "    </tr>\n",
       "  </thead>\n",
       "  <tbody>\n",
       "    <tr>\n",
       "      <th>0</th>\n",
       "      <td>EHER GEBILDET</td>\n",
       "      <td>EHER NIEDRIG</td>\n",
       "      <td>NEUE BUNDESLAENDER</td>\n",
       "      <td>FRAU</td>\n",
       "      <td>ALT</td>\n",
       "      <td>NEIN</td>\n",
       "      <td>DIE LINKE</td>\n",
       "    </tr>\n",
       "    <tr>\n",
       "      <th>1</th>\n",
       "      <td>EHER GEBILDET</td>\n",
       "      <td>EHER NIEDRIG</td>\n",
       "      <td>NEUE BUNDESLAENDER</td>\n",
       "      <td>MANN</td>\n",
       "      <td>ALT</td>\n",
       "      <td>JA</td>\n",
       "      <td>FDP</td>\n",
       "    </tr>\n",
       "    <tr>\n",
       "      <th>2</th>\n",
       "      <td>EHER UNGEBILDET</td>\n",
       "      <td>EHER HOCH</td>\n",
       "      <td>ALTE BUNDESLAENDER</td>\n",
       "      <td>MANN</td>\n",
       "      <td>ALT</td>\n",
       "      <td>JA</td>\n",
       "      <td>CDU-CSU</td>\n",
       "    </tr>\n",
       "    <tr>\n",
       "      <th>3</th>\n",
       "      <td>EHER UNGEBILDET</td>\n",
       "      <td>EHER NIEDRIG</td>\n",
       "      <td>ALTE BUNDESLAENDER</td>\n",
       "      <td>FRAU</td>\n",
       "      <td>ALT</td>\n",
       "      <td>JA</td>\n",
       "      <td>DIE LINKE</td>\n",
       "    </tr>\n",
       "    <tr>\n",
       "      <th>4</th>\n",
       "      <td>EHER GEBILDET</td>\n",
       "      <td>EHER HOCH</td>\n",
       "      <td>ALTE BUNDESLAENDER</td>\n",
       "      <td>MANN</td>\n",
       "      <td>ALT</td>\n",
       "      <td>JA</td>\n",
       "      <td>CDU-CSU</td>\n",
       "    </tr>\n",
       "  </tbody>\n",
       "</table>\n",
       "</div>"
      ],
      "text/plain": [
       "       a_education      b_income          c_eastwest d_sex e_age  \\\n",
       "0    EHER GEBILDET  EHER NIEDRIG  NEUE BUNDESLAENDER  FRAU   ALT   \n",
       "1    EHER GEBILDET  EHER NIEDRIG  NEUE BUNDESLAENDER  MANN   ALT   \n",
       "2  EHER UNGEBILDET     EHER HOCH  ALTE BUNDESLAENDER  MANN   ALT   \n",
       "3  EHER UNGEBILDET  EHER NIEDRIG  ALTE BUNDESLAENDER  FRAU   ALT   \n",
       "4    EHER GEBILDET     EHER HOCH  ALTE BUNDESLAENDER  MANN   ALT   \n",
       "\n",
       "  f_political_interest g_preferred_party  \n",
       "0                 NEIN         DIE LINKE  \n",
       "1                   JA               FDP  \n",
       "2                   JA           CDU-CSU  \n",
       "3                   JA         DIE LINKE  \n",
       "4                   JA           CDU-CSU  "
      ]
     },
     "execution_count": 7,
     "metadata": {},
     "output_type": "execute_result"
    }
   ],
   "source": [
    "from modules.models import *\n",
    "catmod = Categ(\"allbus2016\")\n",
    "catmod.data = read_csv_data(catmod.path_data, 'dataset.csv')\n",
    "catmod.data.head()"
   ]
  },
  {
   "cell_type": "markdown",
   "metadata": {
    "collapsed": true
   },
   "source": [
    "We receive the same output as above. Next thing to do is fitting a categorical model on our data. This can be done with the implemented function \"selection\". It is important that the class variable \"data\" of our class object \"catmod\" is assigned to the data."
   ]
  },
  {
   "cell_type": "code",
   "execution_count": 8,
   "metadata": {},
   "outputs": [
    {
     "name": "stdout",
     "output_type": "stream",
     "text": [
      "Saved model in:  models/\n"
     ]
    }
   ],
   "source": [
    "catmod.model = catmod.selection(save=True)"
   ]
  },
  {
   "cell_type": "code",
   "execution_count": 9,
   "metadata": {},
   "outputs": [
    {
     "data": {
      "text/html": [
       "<div>\n",
       "<style>\n",
       "    .dataframe thead tr:only-child th {\n",
       "        text-align: right;\n",
       "    }\n",
       "\n",
       "    .dataframe thead th {\n",
       "        text-align: left;\n",
       "    }\n",
       "\n",
       "    .dataframe tbody tr th {\n",
       "        vertical-align: top;\n",
       "    }\n",
       "</style>\n",
       "<table border=\"1\" class=\"dataframe\">\n",
       "  <thead>\n",
       "    <tr style=\"text-align: right;\">\n",
       "      <th></th>\n",
       "      <th>a_education</th>\n",
       "      <th>b_income</th>\n",
       "      <th>c_eastwest</th>\n",
       "      <th>d_sex</th>\n",
       "      <th>e_age</th>\n",
       "      <th>f_political_interest</th>\n",
       "      <th>g_preferred_party</th>\n",
       "      <th>p</th>\n",
       "    </tr>\n",
       "  </thead>\n",
       "  <tbody>\n",
       "    <tr>\n",
       "      <th>0</th>\n",
       "      <td>EHER GEBILDET</td>\n",
       "      <td>EHER HOCH</td>\n",
       "      <td>ALTE BUNDESLAENDER</td>\n",
       "      <td>FRAU</td>\n",
       "      <td>ALT</td>\n",
       "      <td>JA</td>\n",
       "      <td>AFD</td>\n",
       "      <td>0.000894454</td>\n",
       "    </tr>\n",
       "    <tr>\n",
       "      <th>1</th>\n",
       "      <td>EHER GEBILDET</td>\n",
       "      <td>EHER HOCH</td>\n",
       "      <td>ALTE BUNDESLAENDER</td>\n",
       "      <td>FRAU</td>\n",
       "      <td>ALT</td>\n",
       "      <td>JA</td>\n",
       "      <td>CDU-CSU</td>\n",
       "      <td>0.00536673</td>\n",
       "    </tr>\n",
       "    <tr>\n",
       "      <th>2</th>\n",
       "      <td>EHER GEBILDET</td>\n",
       "      <td>EHER HOCH</td>\n",
       "      <td>ALTE BUNDESLAENDER</td>\n",
       "      <td>FRAU</td>\n",
       "      <td>ALT</td>\n",
       "      <td>JA</td>\n",
       "      <td>DIE GRUENEN</td>\n",
       "      <td>0.00268336</td>\n",
       "    </tr>\n",
       "    <tr>\n",
       "      <th>3</th>\n",
       "      <td>EHER GEBILDET</td>\n",
       "      <td>EHER HOCH</td>\n",
       "      <td>ALTE BUNDESLAENDER</td>\n",
       "      <td>FRAU</td>\n",
       "      <td>ALT</td>\n",
       "      <td>JA</td>\n",
       "      <td>DIE LINKE</td>\n",
       "      <td>0</td>\n",
       "    </tr>\n",
       "    <tr>\n",
       "      <th>4</th>\n",
       "      <td>EHER GEBILDET</td>\n",
       "      <td>EHER HOCH</td>\n",
       "      <td>ALTE BUNDESLAENDER</td>\n",
       "      <td>FRAU</td>\n",
       "      <td>ALT</td>\n",
       "      <td>JA</td>\n",
       "      <td>FDP</td>\n",
       "      <td>0.00268336</td>\n",
       "    </tr>\n",
       "  </tbody>\n",
       "</table>\n",
       "</div>"
      ],
      "text/plain": [
       "     a_education   b_income          c_eastwest d_sex e_age  \\\n",
       "0  EHER GEBILDET  EHER HOCH  ALTE BUNDESLAENDER  FRAU   ALT   \n",
       "1  EHER GEBILDET  EHER HOCH  ALTE BUNDESLAENDER  FRAU   ALT   \n",
       "2  EHER GEBILDET  EHER HOCH  ALTE BUNDESLAENDER  FRAU   ALT   \n",
       "3  EHER GEBILDET  EHER HOCH  ALTE BUNDESLAENDER  FRAU   ALT   \n",
       "4  EHER GEBILDET  EHER HOCH  ALTE BUNDESLAENDER  FRAU   ALT   \n",
       "\n",
       "  f_political_interest g_preferred_party            p  \n",
       "0                   JA               AFD  0.000894454  \n",
       "1                   JA           CDU-CSU   0.00536673  \n",
       "2                   JA       DIE GRUENEN   0.00268336  \n",
       "3                   JA         DIE LINKE            0  \n",
       "4                   JA               FDP   0.00268336  "
      ]
     },
     "execution_count": 9,
     "metadata": {},
     "output_type": "execute_result"
    }
   ],
   "source": [
    "catmod.model.head()"
   ]
  },
  {
   "cell_type": "markdown",
   "metadata": {},
   "source": [
    "What happened? So we created a model that is in this case basically a table with the same columns as in the data plus an extra column \"p\" which stands for probabilty of the vector. After that we counted the occurence of each possible vector in the data and divided it in the end by the total number of rows in the data. The result is a \"score\" which shows how many times a specific combination of the variables occurs in the data. What can we do now? Well, we could calculate the maximum of the probability density. In other words the combination of variables which occurs the most:"
   ]
  },
  {
   "cell_type": "code",
   "execution_count": 10,
   "metadata": {},
   "outputs": [
    {
     "name": "stdout",
     "output_type": "stream",
     "text": [
      "OUTPUT############################\n",
      "Score:  0.028622540250447227  - Prob:  2.862254025044723 %\n",
      "Index/Indizes of Sol:  [114]\n",
      "MAX at: \n",
      "[a_education                  EHER GEBILDET\n",
      "b_income                      EHER NIEDRIG\n",
      "c_eastwest              ALTE BUNDESLAENDER\n",
      "d_sex                                 FRAU\n",
      "e_age                                  ALT\n",
      "f_political_interest                    JA\n",
      "g_preferred_party              DIE GRUENEN\n",
      "Name: 114, dtype: object]\n",
      "OUTPUT - END #####################\n"
     ]
    }
   ],
   "source": [
    "max = catmod.argmaximum()"
   ]
  },
  {
   "cell_type": "markdown",
   "metadata": {},
   "source": [
    "So if we ask for a random person in Germany, the most likely person would be a high educated, old (older than 44) woman from West Germany with a low income, political interested and the green party as political preference. \n",
    "\n",
    "What else can we do? Well, we can check if the argmaximum is really the vector with this score."
   ]
  },
  {
   "cell_type": "code",
   "execution_count": 11,
   "metadata": {},
   "outputs": [
    {
     "data": {
      "text/plain": [
       "0.028622540250447227"
      ]
     },
     "execution_count": 11,
     "metadata": {},
     "output_type": "execute_result"
    }
   ],
   "source": [
    "catmod.dens(max[0])"
   ]
  },
  {
   "cell_type": "markdown",
   "metadata": {},
   "source": [
    "Yup, it is. Btw: Why do I call the vector with \"max[0]\"?. Well, it could happen that there are more than one maximum. In this case we get a list (max[0], max[1] ..) of vectors which have the highest score."
   ]
  },
  {
   "cell_type": "markdown",
   "metadata": {},
   "source": [
    "# Prediction\n",
    "\n",
    "In this section I want to use my model in its functions (Marginalization, Conditionalization, Aggregation) to give some possible answers on some hypotheses I thought about.\n",
    "\n",
    "Hypotheses:\n",
    "- It is more likely to vote for \"AFD\" in East Germany than in West Germany when you are an old man (1)\n",
    "- It is most likely to vote for \"DIE GRUENEN\", when you are a young, high educated woman (2)\n",
    "- It is most likely to have a high income, when you are high educated and have political interest (3)\n"
   ]
  },
  {
   "cell_type": "code",
   "execution_count": 12,
   "metadata": {},
   "outputs": [
    {
     "data": {
      "text/html": [
       "<div>\n",
       "<style>\n",
       "    .dataframe thead tr:only-child th {\n",
       "        text-align: right;\n",
       "    }\n",
       "\n",
       "    .dataframe thead th {\n",
       "        text-align: left;\n",
       "    }\n",
       "\n",
       "    .dataframe tbody tr th {\n",
       "        vertical-align: top;\n",
       "    }\n",
       "</style>\n",
       "<table border=\"1\" class=\"dataframe\">\n",
       "  <thead>\n",
       "    <tr style=\"text-align: right;\">\n",
       "      <th></th>\n",
       "      <th>a_education</th>\n",
       "      <th>b_income</th>\n",
       "      <th>c_eastwest</th>\n",
       "      <th>d_sex</th>\n",
       "      <th>e_age</th>\n",
       "      <th>f_political_interest</th>\n",
       "      <th>g_preferred_party</th>\n",
       "      <th>p</th>\n",
       "    </tr>\n",
       "  </thead>\n",
       "  <tbody>\n",
       "    <tr>\n",
       "      <th>0</th>\n",
       "      <td>EHER GEBILDET</td>\n",
       "      <td>EHER HOCH</td>\n",
       "      <td>ALTE BUNDESLAENDER</td>\n",
       "      <td>FRAU</td>\n",
       "      <td>ALT</td>\n",
       "      <td>JA</td>\n",
       "      <td>AFD</td>\n",
       "      <td>0.000894454</td>\n",
       "    </tr>\n",
       "    <tr>\n",
       "      <th>1</th>\n",
       "      <td>EHER GEBILDET</td>\n",
       "      <td>EHER HOCH</td>\n",
       "      <td>ALTE BUNDESLAENDER</td>\n",
       "      <td>FRAU</td>\n",
       "      <td>ALT</td>\n",
       "      <td>JA</td>\n",
       "      <td>CDU-CSU</td>\n",
       "      <td>0.00536673</td>\n",
       "    </tr>\n",
       "    <tr>\n",
       "      <th>2</th>\n",
       "      <td>EHER GEBILDET</td>\n",
       "      <td>EHER HOCH</td>\n",
       "      <td>ALTE BUNDESLAENDER</td>\n",
       "      <td>FRAU</td>\n",
       "      <td>ALT</td>\n",
       "      <td>JA</td>\n",
       "      <td>DIE GRUENEN</td>\n",
       "      <td>0.00268336</td>\n",
       "    </tr>\n",
       "    <tr>\n",
       "      <th>3</th>\n",
       "      <td>EHER GEBILDET</td>\n",
       "      <td>EHER HOCH</td>\n",
       "      <td>ALTE BUNDESLAENDER</td>\n",
       "      <td>FRAU</td>\n",
       "      <td>ALT</td>\n",
       "      <td>JA</td>\n",
       "      <td>DIE LINKE</td>\n",
       "      <td>0</td>\n",
       "    </tr>\n",
       "    <tr>\n",
       "      <th>4</th>\n",
       "      <td>EHER GEBILDET</td>\n",
       "      <td>EHER HOCH</td>\n",
       "      <td>ALTE BUNDESLAENDER</td>\n",
       "      <td>FRAU</td>\n",
       "      <td>ALT</td>\n",
       "      <td>JA</td>\n",
       "      <td>FDP</td>\n",
       "      <td>0.00268336</td>\n",
       "    </tr>\n",
       "  </tbody>\n",
       "</table>\n",
       "</div>"
      ],
      "text/plain": [
       "     a_education   b_income          c_eastwest d_sex e_age  \\\n",
       "0  EHER GEBILDET  EHER HOCH  ALTE BUNDESLAENDER  FRAU   ALT   \n",
       "1  EHER GEBILDET  EHER HOCH  ALTE BUNDESLAENDER  FRAU   ALT   \n",
       "2  EHER GEBILDET  EHER HOCH  ALTE BUNDESLAENDER  FRAU   ALT   \n",
       "3  EHER GEBILDET  EHER HOCH  ALTE BUNDESLAENDER  FRAU   ALT   \n",
       "4  EHER GEBILDET  EHER HOCH  ALTE BUNDESLAENDER  FRAU   ALT   \n",
       "\n",
       "  f_political_interest g_preferred_party            p  \n",
       "0                   JA               AFD  0.000894454  \n",
       "1                   JA           CDU-CSU   0.00536673  \n",
       "2                   JA       DIE GRUENEN   0.00268336  \n",
       "3                   JA         DIE LINKE            0  \n",
       "4                   JA               FDP   0.00268336  "
      ]
     },
     "execution_count": 12,
     "metadata": {},
     "output_type": "execute_result"
    }
   ],
   "source": [
    "catmod.model.head()"
   ]
  },
  {
   "cell_type": "code",
   "execution_count": 13,
   "metadata": {},
   "outputs": [
    {
     "data": {
      "text/html": [
       "<div>\n",
       "<style>\n",
       "    .dataframe thead tr:only-child th {\n",
       "        text-align: right;\n",
       "    }\n",
       "\n",
       "    .dataframe thead th {\n",
       "        text-align: left;\n",
       "    }\n",
       "\n",
       "    .dataframe tbody tr th {\n",
       "        vertical-align: top;\n",
       "    }\n",
       "</style>\n",
       "<table border=\"1\" class=\"dataframe\">\n",
       "  <thead>\n",
       "    <tr style=\"text-align: right;\">\n",
       "      <th></th>\n",
       "      <th>c_eastwest</th>\n",
       "      <th>d_sex</th>\n",
       "      <th>e_age</th>\n",
       "      <th>g_preferred_party</th>\n",
       "      <th>p</th>\n",
       "    </tr>\n",
       "  </thead>\n",
       "  <tbody>\n",
       "    <tr>\n",
       "      <th>0</th>\n",
       "      <td>ALTE BUNDESLAENDER</td>\n",
       "      <td>MANN</td>\n",
       "      <td>ALT</td>\n",
       "      <td>AFD</td>\n",
       "      <td>0.517241</td>\n",
       "    </tr>\n",
       "    <tr>\n",
       "      <th>1</th>\n",
       "      <td>NEUE BUNDESLAENDER</td>\n",
       "      <td>MANN</td>\n",
       "      <td>ALT</td>\n",
       "      <td>AFD</td>\n",
       "      <td>0.482759</td>\n",
       "    </tr>\n",
       "  </tbody>\n",
       "</table>\n",
       "</div>"
      ],
      "text/plain": [
       "           c_eastwest d_sex e_age g_preferred_party         p\n",
       "0  ALTE BUNDESLAENDER  MANN   ALT               AFD  0.517241\n",
       "1  NEUE BUNDESLAENDER  MANN   ALT               AFD  0.482759"
      ]
     },
     "execution_count": 13,
     "metadata": {},
     "output_type": "execute_result"
    }
   ],
   "source": [
    "pred1 = catmod.marg_list([\"a_education\", \"b_income\", \"f_political_interest\"])\n",
    "pred1 = catmod.cond(\"d_sex\", \"MANN\", pred1)\n",
    "pred1 = catmod.cond(\"e_age\", \"ALT\", pred1)\n",
    "max0 = catmod.cond(\"g_preferred_party\", \"AFD\", pred1)\n",
    "max0"
   ]
  },
  {
   "cell_type": "markdown",
   "metadata": {},
   "source": [
    "What do we get: If you choose randomly an old men who votes for AFD, it's more likely he is from West Germany. Simply because there live more people. What do we actually want to know is: If we choose someone from East and West Germany, where is it more likely to vote for AFD? "
   ]
  },
  {
   "cell_type": "code",
   "execution_count": 14,
   "metadata": {},
   "outputs": [
    {
     "data": {
      "text/plain": [
       "[0.18983050847457622, 0.12903225806451613]"
      ]
     },
     "execution_count": 14,
     "metadata": {},
     "output_type": "execute_result"
    }
   ],
   "source": [
    "max1 = catmod.cond(\"c_eastwest\", \"NEUE BUNDESLAENDER\", pred1)\n",
    "max2 = catmod.cond(\"c_eastwest\", \"ALTE BUNDESLAENDER\", pred1)\n",
    "maxima = []\n",
    "maxima.append(catmod.dens([\"NEUE BUNDESLAENDER\", \"MANN\", \"ALT\", \"AFD\"], max1))\n",
    "maxima.append(catmod.dens([\"ALTE BUNDESLAENDER\", \"MANN\", \"ALT\", \"AFD\"], max2))\n",
    "maxima"
   ]
  },
  {
   "cell_type": "markdown",
   "metadata": {},
   "source": [
    "Now we get what we have expected. The probabilty to vote for \"AFD\" is higher when you are in East Germany (~19,0%) than in West Germany (~12,9%). "
   ]
  },
  {
   "cell_type": "code",
   "execution_count": 15,
   "metadata": {},
   "outputs": [
    {
     "data": {
      "text/html": [
       "<div>\n",
       "<style>\n",
       "    .dataframe thead tr:only-child th {\n",
       "        text-align: right;\n",
       "    }\n",
       "\n",
       "    .dataframe thead th {\n",
       "        text-align: left;\n",
       "    }\n",
       "\n",
       "    .dataframe tbody tr th {\n",
       "        vertical-align: top;\n",
       "    }\n",
       "</style>\n",
       "<table border=\"1\" class=\"dataframe\">\n",
       "  <thead>\n",
       "    <tr style=\"text-align: right;\">\n",
       "      <th></th>\n",
       "      <th>a_education</th>\n",
       "      <th>d_sex</th>\n",
       "      <th>e_age</th>\n",
       "      <th>g_preferred_party</th>\n",
       "      <th>p</th>\n",
       "    </tr>\n",
       "  </thead>\n",
       "  <tbody>\n",
       "    <tr>\n",
       "      <th>0</th>\n",
       "      <td>EHER GEBILDET</td>\n",
       "      <td>FRAU</td>\n",
       "      <td>JUNG</td>\n",
       "      <td>AFD</td>\n",
       "      <td>0.064067</td>\n",
       "    </tr>\n",
       "    <tr>\n",
       "      <th>1</th>\n",
       "      <td>EHER GEBILDET</td>\n",
       "      <td>FRAU</td>\n",
       "      <td>JUNG</td>\n",
       "      <td>CDU-CSU</td>\n",
       "      <td>0.295265</td>\n",
       "    </tr>\n",
       "    <tr>\n",
       "      <th>2</th>\n",
       "      <td>EHER GEBILDET</td>\n",
       "      <td>FRAU</td>\n",
       "      <td>JUNG</td>\n",
       "      <td>DIE GRUENEN</td>\n",
       "      <td>0.239554</td>\n",
       "    </tr>\n",
       "    <tr>\n",
       "      <th>3</th>\n",
       "      <td>EHER GEBILDET</td>\n",
       "      <td>FRAU</td>\n",
       "      <td>JUNG</td>\n",
       "      <td>DIE LINKE</td>\n",
       "      <td>0.089136</td>\n",
       "    </tr>\n",
       "    <tr>\n",
       "      <th>4</th>\n",
       "      <td>EHER GEBILDET</td>\n",
       "      <td>FRAU</td>\n",
       "      <td>JUNG</td>\n",
       "      <td>FDP</td>\n",
       "      <td>0.041783</td>\n",
       "    </tr>\n",
       "    <tr>\n",
       "      <th>5</th>\n",
       "      <td>EHER GEBILDET</td>\n",
       "      <td>FRAU</td>\n",
       "      <td>JUNG</td>\n",
       "      <td>SPD</td>\n",
       "      <td>0.200557</td>\n",
       "    </tr>\n",
       "    <tr>\n",
       "      <th>6</th>\n",
       "      <td>EHER GEBILDET</td>\n",
       "      <td>FRAU</td>\n",
       "      <td>JUNG</td>\n",
       "      <td>WUERDE NICHT WAEHLEN</td>\n",
       "      <td>0.069638</td>\n",
       "    </tr>\n",
       "  </tbody>\n",
       "</table>\n",
       "</div>"
      ],
      "text/plain": [
       "     a_education d_sex e_age     g_preferred_party         p\n",
       "0  EHER GEBILDET  FRAU  JUNG                   AFD  0.064067\n",
       "1  EHER GEBILDET  FRAU  JUNG               CDU-CSU  0.295265\n",
       "2  EHER GEBILDET  FRAU  JUNG           DIE GRUENEN  0.239554\n",
       "3  EHER GEBILDET  FRAU  JUNG             DIE LINKE  0.089136\n",
       "4  EHER GEBILDET  FRAU  JUNG                   FDP  0.041783\n",
       "5  EHER GEBILDET  FRAU  JUNG                   SPD  0.200557\n",
       "6  EHER GEBILDET  FRAU  JUNG  WUERDE NICHT WAEHLEN  0.069638"
      ]
     },
     "execution_count": 15,
     "metadata": {},
     "output_type": "execute_result"
    }
   ],
   "source": [
    "pred2 = catmod.marg_list([\"b_income\", \"c_eastwest\", \"f_political_interest\"])\n",
    "pred2 = catmod.cond(\"a_education\", \"EHER GEBILDET\", pred2)\n",
    "pred2 = catmod.cond(\"d_sex\", \"FRAU\", pred2)\n",
    "pred2 = catmod.cond(\"e_age\", \"JUNG\", pred2)\n",
    "pred2"
   ]
  },
  {
   "cell_type": "code",
   "execution_count": 16,
   "metadata": {},
   "outputs": [
    {
     "name": "stdout",
     "output_type": "stream",
     "text": [
      "OUTPUT############################\n",
      "Score:  0.295264623955  - Prob:  29.526462395543174 %\n",
      "Index/Indizes of Sol:  [1]\n",
      "MAX at: \n",
      "[a_education          EHER GEBILDET\n",
      "d_sex                         FRAU\n",
      "e_age                         JUNG\n",
      "g_preferred_party          CDU-CSU\n",
      "Name: 1, dtype: object]\n",
      "OUTPUT - END #####################\n"
     ]
    }
   ],
   "source": [
    "max = catmod.argmaximum(pred2)"
   ]
  },
  {
   "cell_type": "markdown",
   "metadata": {},
   "source": [
    "This hypthesis is wrong, but if we consider that the green party is a quite small party, we should compare it only with other small parties:"
   ]
  },
  {
   "cell_type": "code",
   "execution_count": 17,
   "metadata": {},
   "outputs": [
    {
     "name": "stdout",
     "output_type": "stream",
     "text": [
      "OUTPUT############################\n",
      "Score:  0.377192982456  - Prob:  37.719298245614034 %\n",
      "Index/Indizes of Sol:  [1]\n",
      "MAX at: \n",
      "[a_education          EHER GEBILDET\n",
      "d_sex                         FRAU\n",
      "e_age                         JUNG\n",
      "g_preferred_party      DIE GRUENEN\n",
      "Name: 1, dtype: object]\n",
      "OUTPUT - END #####################\n"
     ]
    }
   ],
   "source": [
    "pred2 = catmod.cond(\"g_preferred_party\", [\"AFD\", \"DIE GRUENEN\", \"SPD\", \"DIE LINKE\", \"FDP\", \"NPD\"], pred2)\n",
    "max = catmod.argmaximum(pred2)"
   ]
  },
  {
   "cell_type": "markdown",
   "metadata": {},
   "source": [
    "Now we get what we wanted."
   ]
  },
  {
   "cell_type": "code",
   "execution_count": 18,
   "metadata": {},
   "outputs": [
    {
     "data": {
      "text/html": [
       "<div>\n",
       "<style>\n",
       "    .dataframe thead tr:only-child th {\n",
       "        text-align: right;\n",
       "    }\n",
       "\n",
       "    .dataframe thead th {\n",
       "        text-align: left;\n",
       "    }\n",
       "\n",
       "    .dataframe tbody tr th {\n",
       "        vertical-align: top;\n",
       "    }\n",
       "</style>\n",
       "<table border=\"1\" class=\"dataframe\">\n",
       "  <thead>\n",
       "    <tr style=\"text-align: right;\">\n",
       "      <th></th>\n",
       "      <th>a_education</th>\n",
       "      <th>b_income</th>\n",
       "      <th>f_political_interest</th>\n",
       "      <th>p</th>\n",
       "    </tr>\n",
       "  </thead>\n",
       "  <tbody>\n",
       "    <tr>\n",
       "      <th>0</th>\n",
       "      <td>EHER GEBILDET</td>\n",
       "      <td>EHER HOCH</td>\n",
       "      <td>JA</td>\n",
       "      <td>0.227894</td>\n",
       "    </tr>\n",
       "    <tr>\n",
       "      <th>1</th>\n",
       "      <td>EHER GEBILDET</td>\n",
       "      <td>EHER NIEDRIG</td>\n",
       "      <td>JA</td>\n",
       "      <td>0.772106</td>\n",
       "    </tr>\n",
       "  </tbody>\n",
       "</table>\n",
       "</div>"
      ],
      "text/plain": [
       "     a_education      b_income f_political_interest         p\n",
       "0  EHER GEBILDET     EHER HOCH                   JA  0.227894\n",
       "1  EHER GEBILDET  EHER NIEDRIG                   JA  0.772106"
      ]
     },
     "execution_count": 18,
     "metadata": {},
     "output_type": "execute_result"
    }
   ],
   "source": [
    "pred3 = catmod.marg_list([2, 3, 4, 6])\n",
    "pred3 = catmod.cond(\"a_education\", \"EHER GEBILDET\", pred3)\n",
    "#pred3 = catmod.cond(\"b_income\", \"EHER HOCH\", pred3)\n",
    "pred3 = catmod.cond(\"f_political_interest\", \"JA\", pred3)\n",
    "#max = catmod.argmaximum(pred3)\n",
    "pred3"
   ]
  },
  {
   "cell_type": "markdown",
   "metadata": {
    "collapsed": true
   },
   "source": [
    "This hypotheses seems to be wrong, but if you consider that we have the border between rich and not rich at \"2500\" and that you already have a high education with \"Mittlere Reife\", then it might be comprehensibly. Now I ask a few other couple of questions.\n",
    "\n",
    "Questions:\n",
    "- What is the most likely preferred party, when you are political interested? (4)\n",
    "- What is the most likely sex, when you are high educated? (5)\n",
    "- What is the most likely sex, when you have a high income? (6)\n",
    "- What is the most likely part in Germany you live (East Germany / West Germany), when your preferred party is \"AFD\" or \"DIE LINKE\"? (7)"
   ]
  },
  {
   "cell_type": "code",
   "execution_count": 19,
   "metadata": {},
   "outputs": [
    {
     "name": "stdout",
     "output_type": "stream",
     "text": [
      "OUTPUT############################\n",
      "Score:  0.283464566929  - Prob:  28.346456692913392 %\n",
      "Index/Indizes of Sol:  [1]\n",
      "MAX at: \n",
      "[f_political_interest         JA\n",
      "g_preferred_party       CDU-CSU\n",
      "Name: 1, dtype: object]\n",
      "OUTPUT - END #####################\n"
     ]
    }
   ],
   "source": [
    "pred4 = catmod.marg_list([0, 1, 2, 3, 4])\n",
    "pred4 = catmod.cond(\"f_political_interest\", \"JA\", pred4)\n",
    "max = catmod.argmaximum(pred4)"
   ]
  },
  {
   "cell_type": "markdown",
   "metadata": {
    "collapsed": true
   },
   "source": [
    "We also can check the score of the other parties in the model:"
   ]
  },
  {
   "cell_type": "code",
   "execution_count": 20,
   "metadata": {},
   "outputs": [
    {
     "data": {
      "text/html": [
       "<div>\n",
       "<style>\n",
       "    .dataframe thead tr:only-child th {\n",
       "        text-align: right;\n",
       "    }\n",
       "\n",
       "    .dataframe thead th {\n",
       "        text-align: left;\n",
       "    }\n",
       "\n",
       "    .dataframe tbody tr th {\n",
       "        vertical-align: top;\n",
       "    }\n",
       "</style>\n",
       "<table border=\"1\" class=\"dataframe\">\n",
       "  <thead>\n",
       "    <tr style=\"text-align: right;\">\n",
       "      <th></th>\n",
       "      <th>f_political_interest</th>\n",
       "      <th>g_preferred_party</th>\n",
       "      <th>p</th>\n",
       "    </tr>\n",
       "  </thead>\n",
       "  <tbody>\n",
       "    <tr>\n",
       "      <th>0</th>\n",
       "      <td>JA</td>\n",
       "      <td>AFD</td>\n",
       "      <td>0.114173</td>\n",
       "    </tr>\n",
       "    <tr>\n",
       "      <th>1</th>\n",
       "      <td>JA</td>\n",
       "      <td>CDU-CSU</td>\n",
       "      <td>0.283465</td>\n",
       "    </tr>\n",
       "    <tr>\n",
       "      <th>2</th>\n",
       "      <td>JA</td>\n",
       "      <td>DIE GRUENEN</td>\n",
       "      <td>0.163667</td>\n",
       "    </tr>\n",
       "    <tr>\n",
       "      <th>3</th>\n",
       "      <td>JA</td>\n",
       "      <td>DIE LINKE</td>\n",
       "      <td>0.104049</td>\n",
       "    </tr>\n",
       "    <tr>\n",
       "      <th>4</th>\n",
       "      <td>JA</td>\n",
       "      <td>FDP</td>\n",
       "      <td>0.079303</td>\n",
       "    </tr>\n",
       "    <tr>\n",
       "      <th>5</th>\n",
       "      <td>JA</td>\n",
       "      <td>SPD</td>\n",
       "      <td>0.196288</td>\n",
       "    </tr>\n",
       "    <tr>\n",
       "      <th>6</th>\n",
       "      <td>JA</td>\n",
       "      <td>WUERDE NICHT WAEHLEN</td>\n",
       "      <td>0.059055</td>\n",
       "    </tr>\n",
       "  </tbody>\n",
       "</table>\n",
       "</div>"
      ],
      "text/plain": [
       "  f_political_interest     g_preferred_party         p\n",
       "0                   JA                   AFD  0.114173\n",
       "1                   JA               CDU-CSU  0.283465\n",
       "2                   JA           DIE GRUENEN  0.163667\n",
       "3                   JA             DIE LINKE  0.104049\n",
       "4                   JA                   FDP  0.079303\n",
       "5                   JA                   SPD  0.196288\n",
       "6                   JA  WUERDE NICHT WAEHLEN  0.059055"
      ]
     },
     "execution_count": 20,
     "metadata": {},
     "output_type": "execute_result"
    }
   ],
   "source": [
    "pred4"
   ]
  },
  {
   "cell_type": "code",
   "execution_count": 21,
   "metadata": {},
   "outputs": [
    {
     "name": "stdout",
     "output_type": "stream",
     "text": [
      "OUTPUT############################\n",
      "Score:  0.508761329305  - Prob:  50.8761329305136 %\n",
      "Index/Indizes of Sol:  [0]\n",
      "MAX at: \n",
      "[a_education    EHER GEBILDET\n",
      "d_sex                   FRAU\n",
      "Name: 0, dtype: object]\n",
      "OUTPUT - END #####################\n"
     ]
    }
   ],
   "source": [
    "pred5 = catmod.marg_list([1, 2, 4, 5, 6])\n",
    "pred5 = catmod.cond(\"a_education\", \"EHER GEBILDET\", pred5)\n",
    "max = catmod.argmaximum(pred5)"
   ]
  },
  {
   "cell_type": "markdown",
   "metadata": {},
   "source": [
    "Well, women are already better in school, so it is not surprising they have a better education in the end, even though it is not a big difference."
   ]
  },
  {
   "cell_type": "code",
   "execution_count": 22,
   "metadata": {},
   "outputs": [
    {
     "name": "stdout",
     "output_type": "stream",
     "text": [
      "OUTPUT############################\n",
      "Score:  0.768041237113  - Prob:  76.80412371134021 %\n",
      "Index/Indizes of Sol:  [1]\n",
      "MAX at: \n",
      "[b_income    EHER HOCH\n",
      "d_sex            MANN\n",
      "Name: 1, dtype: object]\n",
      "OUTPUT - END #####################\n"
     ]
    }
   ],
   "source": [
    "pred6 = catmod.marg_list([0, 2, 4, 5, 6])\n",
    "pred6 = catmod.cond(\"b_income\", \"EHER HOCH\", pred6)\n",
    "max = catmod.argmaximum(pred6)"
   ]
  },
  {
   "cell_type": "markdown",
   "metadata": {},
   "source": [
    "This is not surprising as well, if you consider that women take care of the children and are more likely to have half-time jobs etc."
   ]
  },
  {
   "cell_type": "code",
   "execution_count": 23,
   "metadata": {},
   "outputs": [
    {
     "name": "stdout",
     "output_type": "stream",
     "text": [
      "OUTPUT############################\n",
      "Score:  0.543046357616  - Prob:  54.30463576158942 %\n",
      "Index/Indizes of Sol:  [1]\n",
      "MAX at: \n",
      "[c_eastwest    NEUE BUNDESLAENDER\n",
      "Name: 1, dtype: object]\n",
      "OUTPUT - END #####################\n"
     ]
    }
   ],
   "source": [
    "pred7 = catmod.marg_list([0, 1, 3, 4, 5])\n",
    "max0 = catmod.cond(\"g_preferred_party\", [\"AFD\", \"DIE LINKE\"], pred7)\n",
    "max0 = catmod.marg(\"g_preferred_party\", max0)\n",
    "max = catmod.argmaximum(max0)"
   ]
  },
  {
   "cell_type": "markdown",
   "metadata": {},
   "source": [
    "This is not very surprising as well, since the people in East Germany do not have a strong connection to the older parties like CDU-CSU / SPD / FDP, because they were voting since the Wende. But here again like in the first case: It refers to a totally random person in Germany who votes for the AFD or DIE LINKE, it's more likely that this person is from East Germany. Let's check this more accurate:"
   ]
  },
  {
   "cell_type": "code",
   "execution_count": 24,
   "metadata": {},
   "outputs": [
    {
     "data": {
      "text/html": [
       "<div>\n",
       "<style>\n",
       "    .dataframe thead tr:only-child th {\n",
       "        text-align: right;\n",
       "    }\n",
       "\n",
       "    .dataframe thead th {\n",
       "        text-align: left;\n",
       "    }\n",
       "\n",
       "    .dataframe tbody tr th {\n",
       "        vertical-align: top;\n",
       "    }\n",
       "</style>\n",
       "<table border=\"1\" class=\"dataframe\">\n",
       "  <thead>\n",
       "    <tr style=\"text-align: right;\">\n",
       "      <th></th>\n",
       "      <th>c_eastwest</th>\n",
       "      <th>g_preferred_party</th>\n",
       "      <th>p</th>\n",
       "    </tr>\n",
       "  </thead>\n",
       "  <tbody>\n",
       "    <tr>\n",
       "      <th>0</th>\n",
       "      <td>NEUE BUNDESLAENDER</td>\n",
       "      <td>AFD</td>\n",
       "      <td>0.152833</td>\n",
       "    </tr>\n",
       "    <tr>\n",
       "      <th>1</th>\n",
       "      <td>NEUE BUNDESLAENDER</td>\n",
       "      <td>CDU-CSU</td>\n",
       "      <td>0.230567</td>\n",
       "    </tr>\n",
       "    <tr>\n",
       "      <th>2</th>\n",
       "      <td>NEUE BUNDESLAENDER</td>\n",
       "      <td>DIE GRUENEN</td>\n",
       "      <td>0.100132</td>\n",
       "    </tr>\n",
       "    <tr>\n",
       "      <th>3</th>\n",
       "      <td>NEUE BUNDESLAENDER</td>\n",
       "      <td>DIE LINKE</td>\n",
       "      <td>0.171278</td>\n",
       "    </tr>\n",
       "    <tr>\n",
       "      <th>4</th>\n",
       "      <td>NEUE BUNDESLAENDER</td>\n",
       "      <td>FDP</td>\n",
       "      <td>0.047431</td>\n",
       "    </tr>\n",
       "    <tr>\n",
       "      <th>5</th>\n",
       "      <td>NEUE BUNDESLAENDER</td>\n",
       "      <td>SPD</td>\n",
       "      <td>0.173913</td>\n",
       "    </tr>\n",
       "    <tr>\n",
       "      <th>6</th>\n",
       "      <td>NEUE BUNDESLAENDER</td>\n",
       "      <td>WUERDE NICHT WAEHLEN</td>\n",
       "      <td>0.123847</td>\n",
       "    </tr>\n",
       "  </tbody>\n",
       "</table>\n",
       "</div>"
      ],
      "text/plain": [
       "           c_eastwest     g_preferred_party         p\n",
       "0  NEUE BUNDESLAENDER                   AFD  0.152833\n",
       "1  NEUE BUNDESLAENDER               CDU-CSU  0.230567\n",
       "2  NEUE BUNDESLAENDER           DIE GRUENEN  0.100132\n",
       "3  NEUE BUNDESLAENDER             DIE LINKE  0.171278\n",
       "4  NEUE BUNDESLAENDER                   FDP  0.047431\n",
       "5  NEUE BUNDESLAENDER                   SPD  0.173913\n",
       "6  NEUE BUNDESLAENDER  WUERDE NICHT WAEHLEN  0.123847"
      ]
     },
     "execution_count": 24,
     "metadata": {},
     "output_type": "execute_result"
    }
   ],
   "source": [
    "max1 = catmod.cond(\"c_eastwest\", \"NEUE BUNDESLAENDER\", pred7)\n",
    "max2 = catmod.cond(\"c_eastwest\", \"ALTE BUNDESLAENDER\", pred7)\n",
    "max1"
   ]
  },
  {
   "cell_type": "markdown",
   "metadata": {},
   "source": [
    "So in East Germany we have a relative proportion of ~0.15 + ~0.17 = 0.32 = 32% of AFD and DIE LINKE."
   ]
  },
  {
   "cell_type": "code",
   "execution_count": 25,
   "metadata": {},
   "outputs": [
    {
     "data": {
      "text/html": [
       "<div>\n",
       "<style>\n",
       "    .dataframe thead tr:only-child th {\n",
       "        text-align: right;\n",
       "    }\n",
       "\n",
       "    .dataframe thead th {\n",
       "        text-align: left;\n",
       "    }\n",
       "\n",
       "    .dataframe tbody tr th {\n",
       "        vertical-align: top;\n",
       "    }\n",
       "</style>\n",
       "<table border=\"1\" class=\"dataframe\">\n",
       "  <thead>\n",
       "    <tr style=\"text-align: right;\">\n",
       "      <th></th>\n",
       "      <th>c_eastwest</th>\n",
       "      <th>g_preferred_party</th>\n",
       "      <th>p</th>\n",
       "    </tr>\n",
       "  </thead>\n",
       "  <tbody>\n",
       "    <tr>\n",
       "      <th>0</th>\n",
       "      <td>ALTE BUNDESLAENDER</td>\n",
       "      <td>AFD</td>\n",
       "      <td>0.083277</td>\n",
       "    </tr>\n",
       "    <tr>\n",
       "      <th>1</th>\n",
       "      <td>ALTE BUNDESLAENDER</td>\n",
       "      <td>CDU-CSU</td>\n",
       "      <td>0.293162</td>\n",
       "    </tr>\n",
       "    <tr>\n",
       "      <th>2</th>\n",
       "      <td>ALTE BUNDESLAENDER</td>\n",
       "      <td>DIE GRUENEN</td>\n",
       "      <td>0.180095</td>\n",
       "    </tr>\n",
       "    <tr>\n",
       "      <th>3</th>\n",
       "      <td>ALTE BUNDESLAENDER</td>\n",
       "      <td>DIE LINKE</td>\n",
       "      <td>0.056872</td>\n",
       "    </tr>\n",
       "    <tr>\n",
       "      <th>4</th>\n",
       "      <td>ALTE BUNDESLAENDER</td>\n",
       "      <td>FDP</td>\n",
       "      <td>0.088693</td>\n",
       "    </tr>\n",
       "    <tr>\n",
       "      <th>5</th>\n",
       "      <td>ALTE BUNDESLAENDER</td>\n",
       "      <td>SPD</td>\n",
       "      <td>0.218687</td>\n",
       "    </tr>\n",
       "    <tr>\n",
       "      <th>6</th>\n",
       "      <td>ALTE BUNDESLAENDER</td>\n",
       "      <td>WUERDE NICHT WAEHLEN</td>\n",
       "      <td>0.079215</td>\n",
       "    </tr>\n",
       "  </tbody>\n",
       "</table>\n",
       "</div>"
      ],
      "text/plain": [
       "           c_eastwest     g_preferred_party         p\n",
       "0  ALTE BUNDESLAENDER                   AFD  0.083277\n",
       "1  ALTE BUNDESLAENDER               CDU-CSU  0.293162\n",
       "2  ALTE BUNDESLAENDER           DIE GRUENEN  0.180095\n",
       "3  ALTE BUNDESLAENDER             DIE LINKE  0.056872\n",
       "4  ALTE BUNDESLAENDER                   FDP  0.088693\n",
       "5  ALTE BUNDESLAENDER                   SPD  0.218687\n",
       "6  ALTE BUNDESLAENDER  WUERDE NICHT WAEHLEN  0.079215"
      ]
     },
     "execution_count": 25,
     "metadata": {},
     "output_type": "execute_result"
    }
   ],
   "source": [
    "max2"
   ]
  },
  {
   "cell_type": "markdown",
   "metadata": {},
   "source": [
    "In contrast to West Germany, here we have a relative proportion of ~0.08 + 0.05 = 0.13 = 13% of AFD and DIE LINKE."
   ]
  },
  {
   "cell_type": "markdown",
   "metadata": {},
   "source": [
    "# Sampling\n",
    "\n",
    "Now we want some sample points from our fitted model. This can be done we our implemented function:"
   ]
  },
  {
   "cell_type": "code",
   "execution_count": 26,
   "metadata": {},
   "outputs": [
    {
     "name": "stdout",
     "output_type": "stream",
     "text": [
      "Saved samples in:  samples/\n"
     ]
    }
   ],
   "source": [
    "sampling300 = catmod.sampling(300, save=True)"
   ]
  },
  {
   "cell_type": "markdown",
   "metadata": {},
   "source": [
    "Or with even more sample points, but I have already done it, so I just read the .csv file:"
   ]
  },
  {
   "cell_type": "code",
   "execution_count": 27,
   "metadata": {
    "collapsed": true
   },
   "outputs": [],
   "source": [
    "#sampling300 = read_csv_data(catmod.path_samples, \"sampling_300_allbus2016.csv\")\n",
    "sampling5000 = read_csv_data(catmod.path_samples, \"sampling_5000_allbus2016.csv\")"
   ]
  },
  {
   "cell_type": "markdown",
   "metadata": {},
   "source": [
    "At last, we can verify our model and our samples by comparing them through the mean absolute / square error. At first we have to fit a categorical model on the samples, then we can compare the models:"
   ]
  },
  {
   "cell_type": "code",
   "execution_count": 28,
   "metadata": {
    "collapsed": true
   },
   "outputs": [],
   "source": [
    "model300 = catmod.selection(save=False, data=sampling300)\n",
    "model5000 = catmod.selection(save=False, data=sampling5000)"
   ]
  },
  {
   "cell_type": "code",
   "execution_count": 29,
   "metadata": {},
   "outputs": [
    {
     "data": {
      "text/plain": [
       "0.6631007751937971"
      ]
     },
     "execution_count": 29,
     "metadata": {},
     "output_type": "execute_result"
    }
   ],
   "source": [
    "catmod.error(model300, method=\"abs\")"
   ]
  },
  {
   "cell_type": "code",
   "execution_count": 30,
   "metadata": {},
   "outputs": [
    {
     "data": {
      "text/plain": [
       "0.17290590339892653"
      ]
     },
     "execution_count": 30,
     "metadata": {},
     "output_type": "execute_result"
    }
   ],
   "source": [
    "catmod.error(model5000, method=\"abs\")"
   ]
  },
  {
   "cell_type": "markdown",
   "metadata": {},
   "source": [
    "This shows how it should be: The mean absolute error decreases when we increase the number of sampling points."
   ]
  },
  {
   "cell_type": "markdown",
   "metadata": {},
   "source": [
    "# Conclusion\n",
    "\n",
    "In the end I have the impression that our model approximates the given data very well, even though we have too many parameters (448) for too less data (2236). This means the model is probably a bit overfitted. We also could improve the model with laplace smoothing or similar methods, but for this application the approximation is fine."
   ]
  }
 ],
 "metadata": {
  "kernelspec": {
   "display_name": "Python 3",
   "language": "python",
   "name": "python3"
  },
  "language_info": {
   "codemirror_mode": {
    "name": "ipython",
    "version": 3
   },
   "file_extension": ".py",
   "mimetype": "text/x-python",
   "name": "python",
   "nbconvert_exporter": "python",
   "pygments_lexer": "ipython3",
   "version": "3.6.3"
  }
 },
 "nbformat": 4,
 "nbformat_minor": 2
}
