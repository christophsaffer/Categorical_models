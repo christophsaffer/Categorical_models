{
 "cells": [
  {
   "cell_type": "code",
   "execution_count": 3,
   "metadata": {
    "collapsed": true
   },
   "outputs": [],
   "source": [
    "import pandas as pd\n",
    "from modules.models import *\n",
    "from utils import *"
   ]
  },
  {
   "cell_type": "code",
   "execution_count": 4,
   "metadata": {},
   "outputs": [],
   "source": [
    "catmod = Categ(\"allbus2016\")"
   ]
  },
  {
   "cell_type": "code",
   "execution_count": 15,
   "metadata": {},
   "outputs": [
    {
     "data": {
      "text/html": [
       "<div>\n",
       "<style>\n",
       "    .dataframe thead tr:only-child th {\n",
       "        text-align: right;\n",
       "    }\n",
       "\n",
       "    .dataframe thead th {\n",
       "        text-align: left;\n",
       "    }\n",
       "\n",
       "    .dataframe tbody tr th {\n",
       "        vertical-align: top;\n",
       "    }\n",
       "</style>\n",
       "<table border=\"1\" class=\"dataframe\">\n",
       "  <thead>\n",
       "    <tr style=\"text-align: right;\">\n",
       "      <th></th>\n",
       "      <th>a_education</th>\n",
       "      <th>b_income</th>\n",
       "      <th>c_eastwest</th>\n",
       "      <th>d_sex</th>\n",
       "      <th>e_age</th>\n",
       "      <th>f_political_interest</th>\n",
       "      <th>g_preferred_party</th>\n",
       "    </tr>\n",
       "  </thead>\n",
       "  <tbody>\n",
       "    <tr>\n",
       "      <th>0</th>\n",
       "      <td>EHER GEBILDET</td>\n",
       "      <td>EHER NIEDRIG</td>\n",
       "      <td>NEUE BUNDESLAENDER</td>\n",
       "      <td>FRAU</td>\n",
       "      <td>ALT</td>\n",
       "      <td>NEIN</td>\n",
       "      <td>DIE LINKE</td>\n",
       "    </tr>\n",
       "    <tr>\n",
       "      <th>1</th>\n",
       "      <td>EHER GEBILDET</td>\n",
       "      <td>EHER NIEDRIG</td>\n",
       "      <td>NEUE BUNDESLAENDER</td>\n",
       "      <td>MANN</td>\n",
       "      <td>ALT</td>\n",
       "      <td>JA</td>\n",
       "      <td>FDP</td>\n",
       "    </tr>\n",
       "    <tr>\n",
       "      <th>2</th>\n",
       "      <td>EHER UNGEBILDET</td>\n",
       "      <td>EHER HOCH</td>\n",
       "      <td>ALTE BUNDESLAENDER</td>\n",
       "      <td>MANN</td>\n",
       "      <td>ALT</td>\n",
       "      <td>JA</td>\n",
       "      <td>CDU-CSU</td>\n",
       "    </tr>\n",
       "    <tr>\n",
       "      <th>3</th>\n",
       "      <td>EHER UNGEBILDET</td>\n",
       "      <td>EHER NIEDRIG</td>\n",
       "      <td>ALTE BUNDESLAENDER</td>\n",
       "      <td>FRAU</td>\n",
       "      <td>ALT</td>\n",
       "      <td>JA</td>\n",
       "      <td>DIE LINKE</td>\n",
       "    </tr>\n",
       "    <tr>\n",
       "      <th>4</th>\n",
       "      <td>EHER GEBILDET</td>\n",
       "      <td>EHER HOCH</td>\n",
       "      <td>ALTE BUNDESLAENDER</td>\n",
       "      <td>MANN</td>\n",
       "      <td>ALT</td>\n",
       "      <td>JA</td>\n",
       "      <td>CDU-CSU</td>\n",
       "    </tr>\n",
       "  </tbody>\n",
       "</table>\n",
       "</div>"
      ],
      "text/plain": [
       "       a_education      b_income          c_eastwest d_sex e_age  \\\n",
       "0    EHER GEBILDET  EHER NIEDRIG  NEUE BUNDESLAENDER  FRAU   ALT   \n",
       "1    EHER GEBILDET  EHER NIEDRIG  NEUE BUNDESLAENDER  MANN   ALT   \n",
       "2  EHER UNGEBILDET     EHER HOCH  ALTE BUNDESLAENDER  MANN   ALT   \n",
       "3  EHER UNGEBILDET  EHER NIEDRIG  ALTE BUNDESLAENDER  FRAU   ALT   \n",
       "4    EHER GEBILDET     EHER HOCH  ALTE BUNDESLAENDER  MANN   ALT   \n",
       "\n",
       "  f_political_interest g_preferred_party  \n",
       "0                 NEIN         DIE LINKE  \n",
       "1                   JA               FDP  \n",
       "2                   JA           CDU-CSU  \n",
       "3                   JA         DIE LINKE  \n",
       "4                   JA           CDU-CSU  "
      ]
     },
     "execution_count": 15,
     "metadata": {},
     "output_type": "execute_result"
    }
   ],
   "source": [
    "catmod.data = read_csv_data(catmod.path_data, 'dataset.csv')\n",
    "catmod.data.head()"
   ]
  },
  {
   "cell_type": "code",
   "execution_count": 12,
   "metadata": {},
   "outputs": [
    {
     "name": "stdout",
     "output_type": "stream",
     "text": [
      "Saved model in:  models/\n"
     ]
    }
   ],
   "source": [
    "catmod.model = catmod.selection()"
   ]
  },
  {
   "cell_type": "code",
   "execution_count": 16,
   "metadata": {},
   "outputs": [
    {
     "data": {
      "text/html": [
       "<div>\n",
       "<style>\n",
       "    .dataframe thead tr:only-child th {\n",
       "        text-align: right;\n",
       "    }\n",
       "\n",
       "    .dataframe thead th {\n",
       "        text-align: left;\n",
       "    }\n",
       "\n",
       "    .dataframe tbody tr th {\n",
       "        vertical-align: top;\n",
       "    }\n",
       "</style>\n",
       "<table border=\"1\" class=\"dataframe\">\n",
       "  <thead>\n",
       "    <tr style=\"text-align: right;\">\n",
       "      <th></th>\n",
       "      <th>a_education</th>\n",
       "      <th>b_income</th>\n",
       "      <th>c_eastwest</th>\n",
       "      <th>d_sex</th>\n",
       "      <th>e_age</th>\n",
       "      <th>f_political_interest</th>\n",
       "      <th>g_preferred_party</th>\n",
       "      <th>p</th>\n",
       "    </tr>\n",
       "  </thead>\n",
       "  <tbody>\n",
       "    <tr>\n",
       "      <th>0</th>\n",
       "      <td>EHER GEBILDET</td>\n",
       "      <td>EHER HOCH</td>\n",
       "      <td>ALTE BUNDESLAENDER</td>\n",
       "      <td>FRAU</td>\n",
       "      <td>ALT</td>\n",
       "      <td>JA</td>\n",
       "      <td>AFD</td>\n",
       "      <td>0.000888494</td>\n",
       "    </tr>\n",
       "    <tr>\n",
       "      <th>1</th>\n",
       "      <td>EHER GEBILDET</td>\n",
       "      <td>EHER HOCH</td>\n",
       "      <td>ALTE BUNDESLAENDER</td>\n",
       "      <td>FRAU</td>\n",
       "      <td>ALT</td>\n",
       "      <td>JA</td>\n",
       "      <td>CDU-CSU</td>\n",
       "      <td>0.00533096</td>\n",
       "    </tr>\n",
       "    <tr>\n",
       "      <th>2</th>\n",
       "      <td>EHER GEBILDET</td>\n",
       "      <td>EHER HOCH</td>\n",
       "      <td>ALTE BUNDESLAENDER</td>\n",
       "      <td>FRAU</td>\n",
       "      <td>ALT</td>\n",
       "      <td>JA</td>\n",
       "      <td>DIE GRUENEN</td>\n",
       "      <td>0.00266548</td>\n",
       "    </tr>\n",
       "    <tr>\n",
       "      <th>3</th>\n",
       "      <td>EHER GEBILDET</td>\n",
       "      <td>EHER HOCH</td>\n",
       "      <td>ALTE BUNDESLAENDER</td>\n",
       "      <td>FRAU</td>\n",
       "      <td>ALT</td>\n",
       "      <td>JA</td>\n",
       "      <td>DIE LINKE</td>\n",
       "      <td>0</td>\n",
       "    </tr>\n",
       "    <tr>\n",
       "      <th>4</th>\n",
       "      <td>EHER GEBILDET</td>\n",
       "      <td>EHER HOCH</td>\n",
       "      <td>ALTE BUNDESLAENDER</td>\n",
       "      <td>FRAU</td>\n",
       "      <td>ALT</td>\n",
       "      <td>JA</td>\n",
       "      <td>FDP</td>\n",
       "      <td>0.00266548</td>\n",
       "    </tr>\n",
       "  </tbody>\n",
       "</table>\n",
       "</div>"
      ],
      "text/plain": [
       "     a_education   b_income          c_eastwest d_sex e_age  \\\n",
       "0  EHER GEBILDET  EHER HOCH  ALTE BUNDESLAENDER  FRAU   ALT   \n",
       "1  EHER GEBILDET  EHER HOCH  ALTE BUNDESLAENDER  FRAU   ALT   \n",
       "2  EHER GEBILDET  EHER HOCH  ALTE BUNDESLAENDER  FRAU   ALT   \n",
       "3  EHER GEBILDET  EHER HOCH  ALTE BUNDESLAENDER  FRAU   ALT   \n",
       "4  EHER GEBILDET  EHER HOCH  ALTE BUNDESLAENDER  FRAU   ALT   \n",
       "\n",
       "  f_political_interest g_preferred_party            p  \n",
       "0                   JA               AFD  0.000888494  \n",
       "1                   JA           CDU-CSU   0.00533096  \n",
       "2                   JA       DIE GRUENEN   0.00266548  \n",
       "3                   JA         DIE LINKE            0  \n",
       "4                   JA               FDP   0.00266548  "
      ]
     },
     "execution_count": 16,
     "metadata": {},
     "output_type": "execute_result"
    }
   ],
   "source": [
    "catmod.model.head()"
   ]
  },
  {
   "cell_type": "code",
   "execution_count": 18,
   "metadata": {},
   "outputs": [
    {
     "name": "stdout",
     "output_type": "stream",
     "text": [
      "OUTPUT############################\n",
      "Score:  0.028431808085295423  - Prob:  2.8431808085295422 %\n",
      "Index/Indizes of Sol:  [130]\n",
      "MAX at: \n",
      "[a_education                  EHER GEBILDET\n",
      "b_income                      EHER NIEDRIG\n",
      "c_eastwest              ALTE BUNDESLAENDER\n",
      "d_sex                                 FRAU\n",
      "e_age                                  ALT\n",
      "f_political_interest                    JA\n",
      "g_preferred_party              DIE GRUENEN\n",
      "Name: 130, dtype: object]\n",
      "OUTPUT - END #####################\n"
     ]
    }
   ],
   "source": [
    "max = catmod.argmaximum()"
   ]
  },
  {
   "cell_type": "code",
   "execution_count": 20,
   "metadata": {},
   "outputs": [
    {
     "data": {
      "text/plain": [
       "a_education                  EHER GEBILDET\n",
       "b_income                      EHER NIEDRIG\n",
       "c_eastwest              ALTE BUNDESLAENDER\n",
       "d_sex                                 FRAU\n",
       "e_age                                  ALT\n",
       "f_political_interest                    JA\n",
       "g_preferred_party              DIE GRUENEN\n",
       "Name: 130, dtype: object"
      ]
     },
     "execution_count": 20,
     "metadata": {},
     "output_type": "execute_result"
    }
   ],
   "source": [
    "max[0]"
   ]
  },
  {
   "cell_type": "code",
   "execution_count": 23,
   "metadata": {},
   "outputs": [
    {
     "data": {
      "text/plain": [
       "0.028431808085295423"
      ]
     },
     "execution_count": 23,
     "metadata": {},
     "output_type": "execute_result"
    }
   ],
   "source": [
    "dens = catmod.dens(max[0])\n",
    "dens"
   ]
  },
  {
   "cell_type": "code",
   "execution_count": 25,
   "metadata": {},
   "outputs": [
    {
     "name": "stdout",
     "output_type": "stream",
     "text": [
      "Saved samples in:  models/\n"
     ]
    }
   ],
   "source": [
    "sampling = catmod.sampling(300)"
   ]
  },
  {
   "cell_type": "code",
   "execution_count": 29,
   "metadata": {},
   "outputs": [
    {
     "data": {
      "text/html": [
       "<div>\n",
       "<style>\n",
       "    .dataframe thead tr:only-child th {\n",
       "        text-align: right;\n",
       "    }\n",
       "\n",
       "    .dataframe thead th {\n",
       "        text-align: left;\n",
       "    }\n",
       "\n",
       "    .dataframe tbody tr th {\n",
       "        vertical-align: top;\n",
       "    }\n",
       "</style>\n",
       "<table border=\"1\" class=\"dataframe\">\n",
       "  <thead>\n",
       "    <tr style=\"text-align: right;\">\n",
       "      <th></th>\n",
       "      <th>a_education</th>\n",
       "      <th>b_income</th>\n",
       "      <th>c_eastwest</th>\n",
       "      <th>d_sex</th>\n",
       "      <th>e_age</th>\n",
       "      <th>f_political_interest</th>\n",
       "      <th>g_preferred_party</th>\n",
       "    </tr>\n",
       "  </thead>\n",
       "  <tbody>\n",
       "    <tr>\n",
       "      <th>0</th>\n",
       "      <td>EHER GEBILDET</td>\n",
       "      <td>EHER NIEDRIG</td>\n",
       "      <td>ALTE BUNDESLAENDER</td>\n",
       "      <td>MANN</td>\n",
       "      <td>JUNG</td>\n",
       "      <td>JA</td>\n",
       "      <td>CDU-CSU</td>\n",
       "    </tr>\n",
       "    <tr>\n",
       "      <th>1</th>\n",
       "      <td>EHER GEBILDET</td>\n",
       "      <td>EHER NIEDRIG</td>\n",
       "      <td>NEUE BUNDESLAENDER</td>\n",
       "      <td>MANN</td>\n",
       "      <td>JUNG</td>\n",
       "      <td>JA</td>\n",
       "      <td>DIE LINKE</td>\n",
       "    </tr>\n",
       "    <tr>\n",
       "      <th>2</th>\n",
       "      <td>EHER GEBILDET</td>\n",
       "      <td>EHER NIEDRIG</td>\n",
       "      <td>NEUE BUNDESLAENDER</td>\n",
       "      <td>FRAU</td>\n",
       "      <td>JUNG</td>\n",
       "      <td>JA</td>\n",
       "      <td>AFD</td>\n",
       "    </tr>\n",
       "    <tr>\n",
       "      <th>3</th>\n",
       "      <td>EHER GEBILDET</td>\n",
       "      <td>EHER HOCH</td>\n",
       "      <td>ALTE BUNDESLAENDER</td>\n",
       "      <td>FRAU</td>\n",
       "      <td>ALT</td>\n",
       "      <td>JA</td>\n",
       "      <td>DIE GRUENEN</td>\n",
       "    </tr>\n",
       "    <tr>\n",
       "      <th>4</th>\n",
       "      <td>EHER GEBILDET</td>\n",
       "      <td>EHER NIEDRIG</td>\n",
       "      <td>ALTE BUNDESLAENDER</td>\n",
       "      <td>FRAU</td>\n",
       "      <td>ALT</td>\n",
       "      <td>JA</td>\n",
       "      <td>DIE GRUENEN</td>\n",
       "    </tr>\n",
       "  </tbody>\n",
       "</table>\n",
       "</div>"
      ],
      "text/plain": [
       "     a_education      b_income          c_eastwest d_sex e_age  \\\n",
       "0  EHER GEBILDET  EHER NIEDRIG  ALTE BUNDESLAENDER  MANN  JUNG   \n",
       "1  EHER GEBILDET  EHER NIEDRIG  NEUE BUNDESLAENDER  MANN  JUNG   \n",
       "2  EHER GEBILDET  EHER NIEDRIG  NEUE BUNDESLAENDER  FRAU  JUNG   \n",
       "3  EHER GEBILDET     EHER HOCH  ALTE BUNDESLAENDER  FRAU   ALT   \n",
       "4  EHER GEBILDET  EHER NIEDRIG  ALTE BUNDESLAENDER  FRAU   ALT   \n",
       "\n",
       "  f_political_interest g_preferred_party  \n",
       "0                   JA           CDU-CSU  \n",
       "1                   JA         DIE LINKE  \n",
       "2                   JA               AFD  \n",
       "3                   JA       DIE GRUENEN  \n",
       "4                   JA       DIE GRUENEN  "
      ]
     },
     "execution_count": 29,
     "metadata": {},
     "output_type": "execute_result"
    }
   ],
   "source": [
    "sampling.head()"
   ]
  },
  {
   "cell_type": "code",
   "execution_count": null,
   "metadata": {
    "collapsed": true
   },
   "outputs": [],
   "source": []
  }
 ],
 "metadata": {
  "kernelspec": {
   "display_name": "Python 3",
   "language": "python",
   "name": "python3"
  },
  "language_info": {
   "codemirror_mode": {
    "name": "ipython",
    "version": 3
   },
   "file_extension": ".py",
   "mimetype": "text/x-python",
   "name": "python",
   "nbconvert_exporter": "python",
   "pygments_lexer": "ipython3",
   "version": "3.6.3"
  }
 },
 "nbformat": 4,
 "nbformat_minor": 2
}
